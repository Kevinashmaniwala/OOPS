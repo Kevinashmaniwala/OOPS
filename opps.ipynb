{
  "nbformat": 4,
  "nbformat_minor": 0,
  "metadata": {
    "colab": {
      "provenance": []
    },
    "kernelspec": {
      "name": "python3",
      "display_name": "Python 3"
    },
    "language_info": {
      "name": "python"
    }
  },
  "cells": [
    {
      "cell_type": "code",
      "execution_count": null,
      "metadata": {
        "id": "jBq2uvOJ9Q6a"
      },
      "outputs": [],
      "source": []
    },
    {
      "cell_type": "markdown",
      "source": [
        "Q-1:What is Object-Oriented Programming (OOP)?\n",
        "\n",
        "->object oriented programming is a programming style in python in which we arrange the code using object and class.\n",
        "\n",
        "Q-2:  What is a class in OOP?\n",
        "\n",
        "->class basically is a blueprint, we can make object through it, for example \"car\" is a class and we can make defferent cars (objects) like tata safari, mahindra tuv, suzuki alto etc.\n",
        "\n",
        "Q-3:What is an object in OOP?\n",
        "\n",
        "->object in oop is a real world entity made from class like phone is a class and i phone, samsung and xiaomi are objects.\n",
        "\n",
        "Q-4:What is the difference between abstraction and encapsulation?\n",
        "\n",
        "->abstraction and encapsulation both methods are related to hinding but there is difference between both methods while abstraction hides only unneeded details and complex implementation and encapsulation binds data and method and we can make private data or can make it private using \"__\" to private or \"_\" to protect\n",
        "\n",
        "Q-5. What are dunder methods in Python?\n",
        "\n",
        "->dunder method or magical/special method in python are the method defined by built in class in python we define this type of methods for creating custom objects and implementing operator overloading in python.\n",
        "\n",
        "Q-6.Explain the concept of inheritance in OOP\n",
        "\n",
        "->inheritance is basically a same concept as in real life but in oop derived class inherits from base class, when a derived class inherits it can access the method from base class.\n",
        "\n",
        "Q-7. What is polymorphism in OOP?\n",
        "\n",
        "->polymorphism is a process in python which refers to an object taking several forms depending on the method or data method overloading and method overriding are the ways of polymorphism\n",
        "\n",
        "Q-8. How is encapsulation achieved in Python?\n",
        "\n",
        "->to make an object private use \"__\" before any method variable or \"_\" to protect it\n",
        "\n",
        "Q-9. What is a constructor in Python?\n",
        "\n",
        "->In Python, a constructor is a special method used to initialize an object when it's created.Python uses the init() method to define a constructor.\n",
        "\n",
        "Q-10. What are class and static methods in Python?\n",
        "\n",
        "->class methods are bound to the class and access/modify methods and attributes associated to the class.\n",
        "\n",
        "->static method doesn't modify class or instance state, it behavees like a plain function that belongs to a class\n",
        "\n",
        "Q-11. What is method overloading in Python?\n",
        "\n",
        "->In Python, if you define multiple methods with the same name in a class, the last definition will override the previous ones. however python doesn't support method overriding in traditional way, but it can be achieved using some methods e.g. (*args), (**kwargs)\n",
        "\n",
        "Q-12. What is method overriding in OOP?\n",
        "\n",
        "->method overloading in python refers to an object taking several forms depending on the method/data. method overloading happens in thebsame class and the last method overloads previous ones in the same class\n",
        "\n",
        "Q-13. What is a property decorator in Python?\n",
        "\n",
        "->property decorators allow you to use class method as attribute and make code look neat and well organized\n",
        "\n",
        "Q-14. Why is polymorphism important in OOP?\n",
        "\n",
        "->Polymorphism is a fundamental concept in Object-Oriented Programming (OOP) that significantly enhances code flexibility, reusability, and maintainability.\n",
        "\n",
        "Q-15. What is an abstract class in Python?\n",
        "\n",
        "->abstract class is a concept of hiding complex implementation, hiding unneeded details and exposing the data only which is required and also abstract class can not be instantiated it always remain in subclass\n",
        "\n",
        "Q-16. What are the advantages of OOP?\n",
        "\n",
        "->object oriented program is a programming style in which we arrange the code using object and class it makes code easy to access and also make it clean and decorates it and codes flexibility and reusability increases using oop system\n",
        "\n",
        "Q-17. What is the difference between a class variable and an instance variable?\n",
        "\n",
        "->class variable are defined insida a class and they can be call from the class name and they share same name for all instances\n",
        "\n",
        "instance variables are unique variable they are defined as init with self keyword and they don't share data across all instances.\n",
        "\n",
        "Q-18. What is multiple inheritance in Python?\n",
        "\n",
        "->multiple inheritance in python is same im real world when a class inherits from 2 or more classes it is called multiple inheritance\n",
        "\n",
        "Q-19. Explain the purpose of \"__str_ and repr.\" methods in Python.\n",
        "\n",
        "->in python \" str, repr\" are dunder or magic/special method use to make code loook more clean and user friendly when str is use to make an object is an way that is easily understandable and repr is use when you need a precise representation that can represent the code and this is developer friendly it helps to debug the code.\n",
        "\n",
        "Q-20. What is the significance of the super()' function in Python?\n",
        "\n",
        "->The super() function in Python is used to call a method from the parent (superclass) in a child (subclass). It is mainly used in inheritance to reuse methods of the parent class without explicitly naming it.\n",
        "\n",
        "Q-21. What is the significance of the del method in Python?\n",
        "\n",
        "->del is use to cleanup objects after they are used and no longer needed and other use of it is to close the file after use and many more...\n",
        "\n",
        "Q-22. What is the difference between @staticmethod and @classmethod in Python?\n",
        "\n",
        "->@classmethod is bound to the class and can only access or modigy methods and attributes associated to the class\n",
        "\n",
        "@staticmethod does not modify class or instance state it behaves like a plain function that belomgs to a class it does not access instance or class state.\n",
        "\n",
        "Q-23. How does polymorphism work in Python with inheritance?\n",
        "\n",
        "->Polymorphism means \"one interface, multiple implementations\"—a function or method can behave differently for different classes. When combined with inheritance, polymorphism allows a child class to override a parent class method with its own custom behavior.\n",
        "Q-24. What is method chaining in Python OOP?\n",
        "\n",
        "->Method Chaining in Python Object-Oriented Programming (OOP) is a technique where multiple methods are called on the same object in a single line. This is achieved by making each method return self, so the next method can be called directly.\n",
        "\n",
        "Q-25. What is the purpose of the __call_. method in Python?\n",
        "\n",
        "->In Python, the call() method allows an instance of a class to be called like a function. This makes objects behave like functions, providing a flexible way to execute logic.\n",
        "\n"
      ],
      "metadata": {
        "id": "tOWz020e9SSn"
      }
    },
    {
      "cell_type": "code",
      "source": [
        "                                #coding:\n",
        "\n"
      ],
      "metadata": {
        "id": "cixsKyo094NG"
      },
      "execution_count": null,
      "outputs": []
    },
    {
      "cell_type": "code",
      "source": [
        "#Q-1. Create a parent class Animal with a method speak() that prints a generic message. Create a child class Dog that overrides the speak() method to print \"Bark!\".\n",
        "\n",
        "class animal:\n",
        "    def speak(self):\n",
        "        print(\"animal is creating a sound\")\n",
        "class dog(animal):\n",
        "    def speak(self):\n",
        "        print(\"dog is barking\")\n",
        "Dog = dog()\n",
        "Dog.speak()"
      ],
      "metadata": {
        "colab": {
          "base_uri": "https://localhost:8080/"
        },
        "id": "_d4__9PN-2sY",
        "outputId": "ce2866f4-234f-45f9-94ea-6f98a52436f4"
      },
      "execution_count": null,
      "outputs": [
        {
          "output_type": "stream",
          "name": "stdout",
          "text": [
            "dog is barking\n"
          ]
        }
      ]
    },
    {
      "cell_type": "code",
      "source": [
        "#Q-2. Write a program to create an abstract class Shape with a method area(). Derive classes Circle and Rectangle from it and implement the area() method in both.\n",
        "\n",
        "import math\n",
        "class shape:\n",
        "    def area(self):\n",
        "        return 0\n",
        "class circle(shape):\n",
        "    def __init__(self, radius):\n",
        "        self.radius = radius\n",
        "    def area(self):\n",
        "        return math.pi * self.radius ** 2\n",
        "class rectangle(shape):\n",
        "    def __init__(self, length, width):\n",
        "        self.length = length\n",
        "        self.width = width\n",
        "    def area(self):\n",
        "        return self.length * self.width\n",
        "Circ = circle(5)\n",
        "rect = rectangle(7, 7)\n",
        "print(Circ.area())\n",
        "print(rect.area())\n"
      ],
      "metadata": {
        "colab": {
          "base_uri": "https://localhost:8080/"
        },
        "id": "B-P5sPRk-7-3",
        "outputId": "e3cfb1d5-a55a-4e64-8a05-11ae46f698b2"
      },
      "execution_count": null,
      "outputs": [
        {
          "output_type": "stream",
          "name": "stdout",
          "text": [
            "78.53981633974483\n",
            "49\n"
          ]
        }
      ]
    },
    {
      "cell_type": "code",
      "source": [
        "#Q-3. Implement a multi-level inheritance scenario where a class Vehicle has an attribute type. Derive a class Car and further derive a class ElectricCar that adds a battery attribute.\n",
        "class Vehicle:\n",
        "    def __init__(self):\n",
        "        self.type = \"vehicle\"\n",
        "    def show_vehicle_type(self):\n",
        "        print(\"It's a vehicle\")\n",
        "\n",
        "class Car(Vehicle):\n",
        "    def __init__(self, brand):\n",
        "        super().__init__()\n",
        "        self.brand = brand\n",
        "    def type_car(self):\n",
        "        print(f\"Car type is {self.brand}\")\n",
        "\n",
        "class ElectricCar(Car):\n",
        "    def __init__(self, brand, battery):\n",
        "        super().__init__(brand)\n",
        "        self.battery = battery\n",
        "    def battery_capacity(self):\n",
        "        print(f\"Battery capacity is {self.battery} kWh\")\n",
        "\n",
        "vehic = ElectricCar(\"Tesla\", 75)\n",
        "vehic.show_vehicle_type()\n",
        "vehic.type_car()\n",
        "vehic.battery_capacity()\n",
        "\n",
        "\n"
      ],
      "metadata": {
        "colab": {
          "base_uri": "https://localhost:8080/"
        },
        "id": "6J-ZbA4i_C1M",
        "outputId": "d0b86827-7adb-4d0f-89c6-5bc6d90d68b0"
      },
      "execution_count": null,
      "outputs": [
        {
          "output_type": "stream",
          "name": "stdout",
          "text": [
            "It's a vehicle\n",
            "Car type is Tesla\n",
            "Battery capacity is 75 kWh\n"
          ]
        }
      ]
    },
    {
      "cell_type": "code",
      "source": [
        "#Q-4. Demonstrate polymorphism by creating a base class Bird with a method fly(). Create two derived classes Sparrow and Penguin that override the fly() method.\n",
        "class bird:\n",
        "    def fly(self):\n",
        "        print(\"flying bird\")\n",
        "class sparrow(bird):\n",
        "    def fly(self):\n",
        "        print(\"sparrow is flying\")\n",
        "class penguin(bird):\n",
        "    def fly(self):\n",
        "        print(\"Can't fly no wings\")\n",
        "def flying(bird):\n",
        "    bird.fly()\n",
        "Sparrow = sparrow()\n",
        "Penguin = penguin()\n",
        "flying(Sparrow)\n",
        "flying(Penguin)"
      ],
      "metadata": {
        "colab": {
          "base_uri": "https://localhost:8080/"
        },
        "id": "l-0_vbcq_lu1",
        "outputId": "d6e20899-af33-4401-e727-064cb7cc3889"
      },
      "execution_count": null,
      "outputs": [
        {
          "output_type": "stream",
          "name": "stdout",
          "text": [
            "sparrow is flying\n",
            "Can't fly no wings\n"
          ]
        }
      ]
    },
    {
      "cell_type": "code",
      "source": [
        "#Q-5. Write a program to demonstrate encapsulation by creating a class BankAccount with private attributes balance and methods to deposit, withdraw, and check balance.\n",
        "class bankaccount:\n",
        "    def __init__(self, balance):\n",
        "        self.__balance = balance\n",
        "        print(f\"current balance in account is : {self.__balance}\")\n",
        "    def deposit(self, amount):\n",
        "        self.__balance += amount\n",
        "        print(f\"money deposited {amount} successfully current balance is {self.__balance}\")\n",
        "    def withdraw(self, amount):\n",
        "        self.__balance -= amount\n",
        "        print(f\" {amount} rupees withdrawn successfully, current balance is {self.__balance}\")\n",
        "    def get_balance(self):\n",
        "        return self.__balance\n",
        "act1 = bankaccount(10000)\n",
        "act1.deposit(5000)\n",
        "act1.withdraw(3000)\n",
        "act1.get_balance()"
      ],
      "metadata": {
        "colab": {
          "base_uri": "https://localhost:8080/"
        },
        "id": "bKFYVdhV_q9y",
        "outputId": "ee86556e-434b-47cd-8541-9e018ec48b96"
      },
      "execution_count": null,
      "outputs": [
        {
          "output_type": "stream",
          "name": "stdout",
          "text": [
            "current balance in account is : 10000\n",
            "money deposited 5000 successfully current balance is 15000\n",
            " 3000 rupees withdrawn successfully, current balance is 12000\n"
          ]
        },
        {
          "output_type": "execute_result",
          "data": {
            "text/plain": [
              "12000"
            ]
          },
          "metadata": {},
          "execution_count": 11
        }
      ]
    },
    {
      "cell_type": "code",
      "source": [
        "#Q-6. Demonstrate runtime polymorphism using a method play() in a base class Instrument. Derive classes Guitar and Piano that implement their own version of play().\n",
        "\n",
        "class instrument:\n",
        "    def play(self):\n",
        "        print(\"an instrument is playing\")\n",
        "class guitar(instrument):\n",
        "    def play(self):\n",
        "        print(\"guitar is playing\")\n",
        "class piano(instrument):\n",
        "    def play(self):\n",
        "        print(\"piano is playing\")\n",
        "def music_play(instrument):\n",
        "    instrument.play()\n",
        "Guitar = guitar()\n",
        "Piano = piano()\n",
        "music_play(Guitar)\n",
        "music_play(Piano)\n"
      ],
      "metadata": {
        "colab": {
          "base_uri": "https://localhost:8080/"
        },
        "id": "WGULfA0j_yae",
        "outputId": "8cd78a08-cb1e-494f-db04-0527e199f40d"
      },
      "execution_count": null,
      "outputs": [
        {
          "output_type": "stream",
          "name": "stdout",
          "text": [
            "guitar is playing\n",
            "piano is playing\n"
          ]
        }
      ]
    },
    {
      "cell_type": "code",
      "source": [
        "#Q-7. Create a class MathOperations with a class method add_numbers() to add two numbers and a static method subtract_numbers() to subtract two numbers.\n",
        "\n",
        "class mathOperation:\n",
        "    @classmethod\n",
        "    def add_numbers(cls, a, b):\n",
        "        return a + b\n",
        "class mathoperation:\n",
        "    @staticmethod\n",
        "    def substract(a, b):\n",
        "        return a - b\n",
        "add = mathOperation.add_numbers(10, 5)\n",
        "subs = mathoperation.substract(10, 5)\n",
        "print(add)\n",
        "print(subs)"
      ],
      "metadata": {
        "colab": {
          "base_uri": "https://localhost:8080/"
        },
        "id": "0pnDDsnk_20d",
        "outputId": "546042f5-3528-4634-c154-a70e8524a4d7"
      },
      "execution_count": null,
      "outputs": [
        {
          "output_type": "stream",
          "name": "stdout",
          "text": [
            "15\n",
            "5\n"
          ]
        }
      ]
    },
    {
      "cell_type": "code",
      "source": [
        "#Q-8. Implement a class Person with a class method to count the total number of persons created.\n",
        "\n",
        "class person:\n",
        "    count = 0\n",
        "    def __init__(self, name):\n",
        "        self.name = name\n",
        "        person.count += 1\n",
        "    @classmethod\n",
        "    def get_total_person(cls):\n",
        "         return cls.count\n",
        "p1 = person(\"kevin\")\n",
        "p2 = person(\"dev\")\n",
        "p2 = person(\"dharm\")\n",
        "p4 = person(\"vatsal\")\n",
        "p5 = person(\"rutansh\")\n",
        "print(\"Total number of person created is:\", person.get_total_person())\n"
      ],
      "metadata": {
        "colab": {
          "base_uri": "https://localhost:8080/"
        },
        "id": "59l4WMqZ_7Fq",
        "outputId": "6d083ff3-3142-43e0-dcf8-ed92e1d10a57"
      },
      "execution_count": null,
      "outputs": [
        {
          "output_type": "stream",
          "name": "stdout",
          "text": [
            "Total number of person created is: 5\n"
          ]
        }
      ]
    },
    {
      "cell_type": "code",
      "source": [
        "#Q-9. Write a class Fraction with attributes numerator and denominator. Override the str method to display the fraction as \"numerator/denominator\".\n",
        "\n",
        "class fraction:\n",
        "    def __init__(self, numerator, denominator):\n",
        "        self.numerator = numerator\n",
        "        self.denominator = denominator\n",
        "    def __str__(self):\n",
        "        return f\"{self.numerator} / {self.denominator}\"\n",
        "frac1 = fraction(3, 5)\n",
        "frac2 = fraction(5,7)\n",
        "print(frac1)\n",
        "print(frac2)\n"
      ],
      "metadata": {
        "colab": {
          "base_uri": "https://localhost:8080/"
        },
        "id": "At5BezBXAJL0",
        "outputId": "11c36de1-4fba-4d29-bbac-81743ca8c899"
      },
      "execution_count": null,
      "outputs": [
        {
          "output_type": "stream",
          "name": "stdout",
          "text": [
            "3 / 5\n",
            "5 / 7\n"
          ]
        }
      ]
    },
    {
      "cell_type": "code",
      "source": [
        "#Q-10. Demonstrate operator overloading by creating a class Vector and overriding the add method to add two vectors.\n",
        "\n",
        "class Vector:\n",
        "    def __init__(self, x, y):\n",
        "        self.x = x\n",
        "        self.y = y\n",
        "    def __add__(self, other):\n",
        "        return Vector(self.x + other.x, self.y + other.y)\n",
        "    def __str__(self):\n",
        "        return f\"({self.x}, {self.y})\"\n",
        "v1 = Vector(2, 3)\n",
        "v2 = Vector(4, 5)\n",
        "v3 = v1 + v2\n",
        "print(\"Vector 1:\", v1)\n",
        "print(\"Vector 2:\", v2)\n",
        "print(\"Sum of Vectors:\", v3)\n"
      ],
      "metadata": {
        "colab": {
          "base_uri": "https://localhost:8080/"
        },
        "id": "-BGSiOV4AP-c",
        "outputId": "20b9e57c-728b-4edd-e43d-5390e22392b2"
      },
      "execution_count": null,
      "outputs": [
        {
          "output_type": "stream",
          "name": "stdout",
          "text": [
            "Vector 1: (2, 3)\n",
            "Vector 2: (4, 5)\n",
            "Sum of Vectors: (6, 8)\n"
          ]
        }
      ]
    },
    {
      "cell_type": "code",
      "source": [
        "#Q-11. Create a class Person with attributes name and age. Add a method greet() that prints Hello, my name is{name} and am {age} years old.\"\n",
        "\n",
        "class person:\n",
        "    def __init__(self, name, age):\n",
        "        self.name = name\n",
        "        self.age = age\n",
        "    def greet(self):\n",
        "        print(f\"Hello my name is {self.name} and i am {self.age} years old!!\")\n",
        "pers1 = person(\"kevin\", 22)\n",
        "pers1.greet()"
      ],
      "metadata": {
        "colab": {
          "base_uri": "https://localhost:8080/"
        },
        "id": "5z_C5A6dAVGK",
        "outputId": "e600fe35-2ab5-4d64-ffc1-6a29500adfdd"
      },
      "execution_count": null,
      "outputs": [
        {
          "output_type": "stream",
          "name": "stdout",
          "text": [
            "Hello my name is kevin and i am 22 years old!!\n"
          ]
        }
      ]
    },
    {
      "cell_type": "code",
      "source": [
        "#Q-12. Implement a class Student with attributes name and grades. Create a method average_grade() to compute the average of the grades.\n",
        "\n",
        "class student:\n",
        "    def __init__(self, name, grades):\n",
        "        self.name = name\n",
        "        self.grades = grades\n",
        "    def average_grade(self):\n",
        "        if len(self.grades) == 0:\n",
        "            return 0\n",
        "        return sum(self.grades) / len(self.grades)\n",
        "    def __str__(self):\n",
        "        return f\" Student: {self.name}, avarage grade {self.average_grade():.2f}\"\n",
        "s1 = student(\"kevin\", [95, 90, 98])\n",
        "s2 = student(\"dev\", [92, 88, 95, 85])\n",
        "print(s1)\n",
        "print(s2)"
      ],
      "metadata": {
        "colab": {
          "base_uri": "https://localhost:8080/"
        },
        "id": "3GaE3UfEAXiI",
        "outputId": "40811b00-8393-4658-8461-3ccd32c1118f"
      },
      "execution_count": null,
      "outputs": [
        {
          "output_type": "stream",
          "name": "stdout",
          "text": [
            " Student: kevin, avarage grade 94.33\n",
            " Student: dev, avarage grade 90.00\n"
          ]
        }
      ]
    },
    {
      "cell_type": "code",
      "source": [
        "#Q-13. Create a class Rectangle with methods set_dimensions() to set the dimensions and area() to calculate the area.\n",
        "\n",
        "class Rectangle:\n",
        "    def __init__(self):\n",
        "        self.length = 0\n",
        "        self.width = 0\n",
        "    def set_dimensions(self, length, width):\n",
        "        self.length = length\n",
        "        self.width = width\n",
        "    def area(self):\n",
        "        return self.length * self.width\n",
        "    def __str__(self):\n",
        "        return f\"Rectangle with Length: {self.length}, Width: {self.width}, Area: {self.area()}\"\n",
        "rect = Rectangle()\n",
        "rect.set_dimensions(5, 10)\n",
        "print(rect)"
      ],
      "metadata": {
        "colab": {
          "base_uri": "https://localhost:8080/"
        },
        "id": "hdAb1eGiAfYz",
        "outputId": "c07c5417-1b99-423b-8696-ea2d4b235a47"
      },
      "execution_count": null,
      "outputs": [
        {
          "output_type": "stream",
          "name": "stdout",
          "text": [
            "Rectangle with Length: 5, Width: 10, Area: 50\n"
          ]
        }
      ]
    },
    {
      "cell_type": "code",
      "source": [
        "#Q-14. Create a class Employee with a method calculate_ salary() that computes the salary based on hours worked and hourly rate. Create a derived class Manager that adds o bonus to the\n",
        "\n",
        "class Employee:\n",
        "    def __init__(self, name, hours_worked, hourly_rate):\n",
        "        self.name = name\n",
        "        self.hours_worked = hours_worked\n",
        "        self.hourly_rate = hourly_rate\n",
        "    def calculate_salary(self):\n",
        "        return self.hours_worked * self.hourly_rate\n",
        "    def __str__(self):\n",
        "        return f\"Employee: {self.name}, Salary: {self.calculate_salary()}\"\n",
        "class Manager(Employee):\n",
        "    def __init__(self, name, hours_worked, hourly_rate, bonus):\n",
        "        super().__init__(name, hours_worked, hourly_rate)\n",
        "        self.bonus = bonus\n",
        "    def calculate_salary(self):\n",
        "        return super().calculate_salary() + self.bonus\n",
        "    def __str__(self):\n",
        "        return f\"Manager: {self.name}, Salary: {self.calculate_salary()}\"\n",
        "emp = Employee(\"kevin\", 40, 20)\n",
        "mgr = Manager(\"dev\", 45, 30, 500)\n",
        "print(emp)\n",
        "print(mgr)"
      ],
      "metadata": {
        "colab": {
          "base_uri": "https://localhost:8080/"
        },
        "id": "Jwn4QePXAi56",
        "outputId": "a7d4bed7-7086-4585-8121-41b64b28aa27"
      },
      "execution_count": null,
      "outputs": [
        {
          "output_type": "stream",
          "name": "stdout",
          "text": [
            "Employee: kevin, Salary: 800\n",
            "Manager: dev, Salary: 1850\n"
          ]
        }
      ]
    },
    {
      "cell_type": "code",
      "source": [
        "#Q-15. Create a class Product with attributes name, price, and quantity. Implement a method total_ price() that calculates the total price of the product.\n",
        "\n",
        "class product:\n",
        "    def __init__(self, name, price, quantity):\n",
        "        self.name = name\n",
        "        self.price = price\n",
        "        self.quantity = quantity\n",
        "    def total_price(self):\n",
        "        return (self.price) * (self.quantity)\n",
        "    def __str__(self):\n",
        "        return f\" Product name : {self.name}, Price : {self.price}, Quantity: {self.quantity}, Total amount is : {self.total_price()}\"\n",
        "p1 = product(\"creatin\", 400, 2)\n",
        "p2 = product(\"chocolate\", 100, 3)\n",
        "p3 = product(\"lenskart_specs\", 1650, 2)\n",
        "p4 = product(\"oats\", 200, 3)\n",
        "\n",
        "print(p1)\n",
        "print(p2)\n",
        "print(p3)\n",
        "print(p4)"
      ],
      "metadata": {
        "colab": {
          "base_uri": "https://localhost:8080/"
        },
        "id": "tTOufWueAnf6",
        "outputId": "e2cc3907-b048-461d-a31e-c60214c8f393"
      },
      "execution_count": null,
      "outputs": [
        {
          "output_type": "stream",
          "name": "stdout",
          "text": [
            " Product name : creatin, Price : 400, Quantity: 2, Total amount is : 800\n",
            " Product name : chocolate, Price : 100, Quantity: 3, Total amount is : 300\n",
            " Product name : lenskart_specs, Price : 1650, Quantity: 2, Total amount is : 3300\n",
            " Product name : oats, Price : 200, Quantity: 3, Total amount is : 600\n"
          ]
        }
      ]
    },
    {
      "cell_type": "code",
      "source": [
        "#16. Create a class Animal with an abstract method sound(). Create two derived classes Cow and Sheep that implement the sound() method.\n",
        "from abc import ABC, abstractmethod\n",
        "class animal(ABC):\n",
        "    @abstractmethod\n",
        "    def sound(self):\n",
        "        pass\n",
        "class cow(animal):\n",
        "    def sound(self):\n",
        "        return \"cow's sound\"\n",
        "class sheep(animal):\n",
        "    def sound(self):\n",
        "        return \" sheep's sound\"\n",
        "\n",
        "c1 = cow()\n",
        "s1 = sheep()\n",
        "print(s1.sound())\n",
        "print(c1.sound())"
      ],
      "metadata": {
        "colab": {
          "base_uri": "https://localhost:8080/"
        },
        "id": "nrewfG2yArN5",
        "outputId": "07325ccd-cee4-4150-b78e-32941d1ea6e6"
      },
      "execution_count": null,
      "outputs": [
        {
          "output_type": "stream",
          "name": "stdout",
          "text": [
            " sheep's sound\n",
            "cow's sound\n"
          ]
        }
      ]
    },
    {
      "cell_type": "code",
      "source": [
        "\n",
        "#Q-17. Create a class Book with attributes title, author,and year_published. Add a method get_book_info() that returns formatted string with the book's details.\n",
        "\n",
        "class book:\n",
        "    def __init__(self, title, author, year_of_published):\n",
        "        self.title = title\n",
        "        self.author = author\n",
        "        self.year_of_published = year_of_published\n",
        "    def get_book_info(self):\n",
        "        return f\" Title of book : {self.title}, Author of book : {self.author}, Year of publish : {self.year_of_published}\"\n",
        "book1 = book(\"gaban\", \"premchand\", 1960)\n",
        "print(book1.get_book_info())"
      ],
      "metadata": {
        "id": "v3-F9uocAuNB",
        "outputId": "a5c5d409-c315-449d-9159-b3f4bccf5cdc",
        "colab": {
          "base_uri": "https://localhost:8080/"
        }
      },
      "execution_count": null,
      "outputs": [
        {
          "output_type": "stream",
          "name": "stdout",
          "text": [
            " Title of book : gaban, Author of book : premchand, Year of publish : 1960\n"
          ]
        }
      ]
    },
    {
      "cell_type": "code",
      "source": [
        "#Q-18. Create a class House with attributes address and price. Create a derived class Mansion that adds an attribute number_of_rooms.\n",
        "\n",
        "class house:\n",
        "    def __init__(self, address, price):\n",
        "        self.address = address\n",
        "        self.price = price\n",
        "    def get_info(self):\n",
        "        return f\" House in : {self.address}, price : {self.price} is available to own\"\n",
        "class mansion(house):\n",
        "    def __init__(self, address, price, no_rooms):\n",
        "        super().__init__(address, price)\n",
        "        self.no_rooms = no_rooms\n",
        "    def get_info(self):\n",
        "        return f\" mansion in : {self.address}, price : {self.price}, Total Rooms : {self.no_rooms} is available to own\"\n",
        "house1 = house(\"delhi\", 2000000)\n",
        "mansion1 = mansion(\"jaipur\", 150000000, 20)\n",
        "print(house1.get_info())\n",
        "print(mansion1.get_info())"
      ],
      "metadata": {
        "id": "IpD0jR0yAxbQ",
        "outputId": "26dd8fc5-4690-482f-810b-f9f52e41f602",
        "colab": {
          "base_uri": "https://localhost:8080/"
        }
      },
      "execution_count": null,
      "outputs": [
        {
          "output_type": "stream",
          "name": "stdout",
          "text": [
            " House in : delhi, price : 2000000 is available to own\n",
            " mansion in : jaipur, price : 150000000, Total Rooms : 20 is available to own\n"
          ]
        }
      ]
    },
    {
      "cell_type": "code",
      "source": [],
      "metadata": {
        "id": "teHnKKBUA0y8"
      },
      "execution_count": null,
      "outputs": []
    },
    {
      "cell_type": "code",
      "source": [],
      "metadata": {
        "id": "tZFzeb7sAMSn"
      },
      "execution_count": null,
      "outputs": []
    },
    {
      "cell_type": "code",
      "source": [],
      "metadata": {
        "id": "1uL8Ln8OAFTx"
      },
      "execution_count": null,
      "outputs": []
    },
    {
      "cell_type": "code",
      "source": [],
      "metadata": {
        "id": "kae7Jzlu__0M"
      },
      "execution_count": null,
      "outputs": []
    },
    {
      "cell_type": "code",
      "source": [],
      "metadata": {
        "id": "GJym8RXk_vJI"
      },
      "execution_count": null,
      "outputs": []
    },
    {
      "cell_type": "code",
      "source": [],
      "metadata": {
        "id": "dGtsJ9rQ_eFD"
      },
      "execution_count": null,
      "outputs": []
    },
    {
      "cell_type": "code",
      "source": [],
      "metadata": {
        "id": "rkoAeOT8_Tg9"
      },
      "execution_count": null,
      "outputs": []
    },
    {
      "cell_type": "code",
      "source": [],
      "metadata": {
        "id": "WWOpKWUg_R9F"
      },
      "execution_count": null,
      "outputs": []
    },
    {
      "cell_type": "code",
      "source": [],
      "metadata": {
        "id": "Vf4lvpuC_Lgh"
      },
      "execution_count": null,
      "outputs": []
    }
  ]
}